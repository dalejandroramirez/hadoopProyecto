{
 "cells": [
  {
   "cell_type": "markdown",
   "metadata": {},
   "source": [
    "# **PySpark**: The Apache Spark Python API"
   ]
  },
  {
   "cell_type": "markdown",
   "metadata": {},
   "source": [
    "## 1. Introduction\n",
    "\n",
    "This notebook shows how to connect Jupyter notebooks to a Spark cluster to process data using Spark Python API."
   ]
  },
  {
   "cell_type": "markdown",
   "metadata": {},
   "source": [
    "## 2. The Spark Cluster"
   ]
  },
  {
   "cell_type": "markdown",
   "metadata": {},
   "source": [
    "### 2.1. Connection\n",
    "\n",
    "To connect to the Spark cluster, create a SparkSession object with the following params:\n",
    "\n",
    "+ **appName:** application name displayed at the [Spark Master Web UI](http://localhost:8080/);\n",
    "+ **master:** Spark Master URL, same used by Spark Workers;\n",
    "+ **spark.executor.memory:** must be less than or equals to docker compose SPARK_WORKER_MEMORY config."
   ]
  },
  {
   "cell_type": "code",
   "execution_count": 1,
   "metadata": {},
   "outputs": [
    {
     "name": "stderr",
     "output_type": "stream",
     "text": [
      "Setting default log level to \"WARN\".\n",
      "To adjust logging level use sc.setLogLevel(newLevel). For SparkR, use setLogLevel(newLevel).\n",
      "23/10/16 11:53:14 WARN NativeCodeLoader: Unable to load native-hadoop library for your platform... using builtin-java classes where applicable\n"
     ]
    }
   ],
   "source": [
    "from pyspark.sql import SparkSession\n",
    "\n",
    "spark = SparkSession.builder.appName(\"PysparkExample\").config (\"spark.sql.shuffle.partitions\", \"50\").config(\"spark.driver.maxResultSize\",\"5g\").config (\"spark.sql.execution.arrow.enabled\", \"true\").getOrCreate()"
   ]
  },
  {
   "cell_type": "code",
   "execution_count": null,
   "metadata": {},
   "outputs": [],
   "source": [
    "from pyspark.sql import *\n",
    "from pyspark.sql.types import *\n",
    "from pyspark.sql.functions import *"
   ]
  },
  {
   "cell_type": "markdown",
   "metadata": {},
   "source": [
    "More confs for SparkSession object in standalone mode can be added using the **config** method. Checkout the API docs [here](https://spark.apache.org/docs/latest/api/python/pyspark.sql.html#pyspark.sql.SparkSession)."
   ]
  },
  {
   "cell_type": "code",
   "execution_count": 4,
   "metadata": {},
   "outputs": [
    {
     "name": "stderr",
     "output_type": "stream",
     "text": [
      "                                                                                \r"
     ]
    }
   ],
   "source": [
    "venta = spark.read.option(\"compression.codec\", \"snappy\").option(\"mergeSchema\", \"true\").parquet(\"/home/pc/Documentos/henry/hadoopProyecto/Datasets2/venta/000000_0\")"
   ]
  },
  {
   "cell_type": "code",
   "execution_count": 5,
   "metadata": {},
   "outputs": [
    {
     "name": "stderr",
     "output_type": "stream",
     "text": [
      "                                                                                \r"
     ]
    },
    {
     "data": {
      "text/plain": [
       "46645"
      ]
     },
     "execution_count": 5,
     "metadata": {},
     "output_type": "execute_result"
    }
   ],
   "source": [
    "venta.count()"
   ]
  },
  {
   "cell_type": "code",
   "execution_count": 8,
   "metadata": {},
   "outputs": [
    {
     "data": {
      "text/plain": [
       "10"
      ]
     },
     "execution_count": 8,
     "metadata": {},
     "output_type": "execute_result"
    }
   ],
   "source": [
    "len(venta.columns)"
   ]
  },
  {
   "cell_type": "code",
   "execution_count": 9,
   "metadata": {},
   "outputs": [
    {
     "name": "stdout",
     "output_type": "stream",
     "text": [
      "root\n",
      " |-- idventa: integer (nullable = true)\n",
      " |-- fecha: date (nullable = true)\n",
      " |-- fecha_entrega: date (nullable = true)\n",
      " |-- idcanal: integer (nullable = true)\n",
      " |-- idcliente: integer (nullable = true)\n",
      " |-- idsucursal: integer (nullable = true)\n",
      " |-- idempleado: integer (nullable = true)\n",
      " |-- idproducto: integer (nullable = true)\n",
      " |-- precio: float (nullable = true)\n",
      " |-- cantidad: integer (nullable = true)\n",
      "\n"
     ]
    }
   ],
   "source": [
    "venta.printSchema()"
   ]
  },
  {
   "cell_type": "code",
   "execution_count": 10,
   "metadata": {},
   "outputs": [
    {
     "name": "stdout",
     "output_type": "stream",
     "text": [
      "+-------+----------+-------------+-------+---------+----------+----------+----------+------+--------+\n",
      "|idventa|     fecha|fecha_entrega|idcanal|idcliente|idsucursal|idempleado|idproducto|precio|cantidad|\n",
      "+-------+----------+-------------+-------+---------+----------+----------+----------+------+--------+\n",
      "|      1|2018-03-09|   2018-03-17|      3|      969|        13|      1674|     42817|813.12|       2|\n",
      "|      2|2018-12-28|   2018-12-29|      2|      884|        13|      1674|     42795|543.18|       3|\n",
      "|      3|2016-03-28|   2016-03-31|      2|     1722|        13|      1674|     42837|430.32|       1|\n",
      "|      4|2017-10-23|   2017-10-24|      3|     2876|        13|      1674|     42834|818.84|       2|\n",
      "|      5|2017-11-22|   2017-11-25|      2|      678|        13|      1674|     42825|554.18|       3|\n",
      "|      6|2018-01-24|   2018-01-25|      2|     3263|        13|      1674|     42852| 152.0|       1|\n",
      "|      7|2015-03-25|   2015-03-26|      3|     2983|        13|      1674|     42939|2915.0|       1|\n",
      "|      8|2017-07-10|   2017-07-18|      2|      201|        13|      1674|     42940|2162.0|       2|\n",
      "|      9|2018-04-03|   2018-04-06|      2|     1006|        13|      1674|     42905| 456.0|       3|\n",
      "|     10|2019-03-16|   2019-03-17|      1|     1003|        13|      1674|     42894| 515.0|       2|\n",
      "+-------+----------+-------------+-------+---------+----------+----------+----------+------+--------+\n",
      "only showing top 10 rows\n",
      "\n"
     ]
    }
   ],
   "source": [
    "venta.show(n=10)"
   ]
  },
  {
   "cell_type": "code",
   "execution_count": 21,
   "metadata": {},
   "outputs": [],
   "source": [
    "from pyspark.sql.functions import mean, stddev  \n",
    "from pyspark.sql.functions import col"
   ]
  },
  {
   "cell_type": "code",
   "execution_count": 14,
   "metadata": {},
   "outputs": [],
   "source": [
    "# calculate statistics\n",
    "ventas_out = venta.na.drop(subset=['precio','cantidad']).groupBy(\"idproducto\").agg(mean(venta.precio).alias(\"promedio\"), stddev(venta.precio).alias(\"stddev\"))"
   ]
  },
  {
   "cell_type": "code",
   "execution_count": 15,
   "metadata": {},
   "outputs": [],
   "source": [
    "ventas_out = ventas_out.withColumn(\"PrecioMaximo\", ventas_out.promedio + ventas_out.stddev * 3).withColumn(\"PrecioMinimo\", ventas_out.promedio - ventas_out.stddev * 3)"
   ]
  },
  {
   "cell_type": "code",
   "execution_count": 16,
   "metadata": {},
   "outputs": [
    {
     "name": "stdout",
     "output_type": "stream",
     "text": [
      "+----------+------------------+------------------+------------------+-------------------+\n",
      "|idproducto|          promedio|            stddev|      PrecioMaximo|       PrecioMinimo|\n",
      "+----------+------------------+------------------+------------------+-------------------+\n",
      "|     42834|1772.5477912454044| 8766.698479843624|28072.643230776277| -24527.54764828547|\n",
      "|     42991|1656.0337078651685|7184.8999426086675| 23210.73353569117|-19898.666119960835|\n",
      "|     42861|2431.3661971830984| 9924.897685292788|32206.059253061463|-27343.326858695265|\n",
      "|     43040|             757.0|               0.0|             757.0|              757.0|\n",
      "|     43010| 579.5276381909548|2715.9365607484365| 8727.337320436265| -7568.282044054355|\n",
      "|     43022|             675.2| 3252.412888918011|10432.438666754035| -9082.038666754033|\n",
      "|     43026|1884.0645161290322| 8346.479364859078|26923.502610706266|-23155.373578448205|\n",
      "|     42822|2014.9213189019097| 9806.281581842579|31433.766064429645|-27403.923426625825|\n",
      "|     43011| 624.9689440993789|3019.4873994238646| 9683.431142370973| -8433.493254172216|\n",
      "|     42979|240.85142857142858|1192.4990424756822| 3818.348555998475| -3336.645698855618|\n",
      "+----------+------------------+------------------+------------------+-------------------+\n",
      "only showing top 10 rows\n",
      "\n"
     ]
    }
   ],
   "source": [
    "ventas_out.show(n=10)"
   ]
  },
  {
   "cell_type": "code",
   "execution_count": 17,
   "metadata": {},
   "outputs": [
    {
     "name": "stderr",
     "output_type": "stream",
     "text": [
      "                                                                                \r"
     ]
    }
   ],
   "source": [
    "ventas_out.write.option(\"compression.codec\", \"snappy\").option(\"mergeSchema\", \"true\").parquet(\"data2/venta_criterio_outliers\", mode=\"overwrite\")"
   ]
  },
  {
   "cell_type": "code",
   "execution_count": 18,
   "metadata": {},
   "outputs": [],
   "source": [
    "venta = venta.alias(\"v\").join(ventas_out.alias(\"o\"), venta['idproducto'] == ventas_out['idproducto']).select(\"v.idventa\",\"v.fecha\",\"v.fecha_entrega\",\"v.idcanal\",\"v.idcliente\",\"v.idsucursal\",\"v.idempleado\",\"v.idproducto\",\"v.precio\",\"v.cantidad\",\"o.promedio\",\"o.stddev\",\"o.PrecioMaximo\",\"o.PrecioMinimo\")"
   ]
  },
  {
   "cell_type": "code",
   "execution_count": 19,
   "metadata": {},
   "outputs": [
    {
     "name": "stdout",
     "output_type": "stream",
     "text": [
      "root\n",
      " |-- idventa: integer (nullable = true)\n",
      " |-- fecha: date (nullable = true)\n",
      " |-- fecha_entrega: date (nullable = true)\n",
      " |-- idcanal: integer (nullable = true)\n",
      " |-- idcliente: integer (nullable = true)\n",
      " |-- idsucursal: integer (nullable = true)\n",
      " |-- idempleado: integer (nullable = true)\n",
      " |-- idproducto: integer (nullable = true)\n",
      " |-- precio: float (nullable = true)\n",
      " |-- cantidad: integer (nullable = true)\n",
      " |-- promedio: double (nullable = true)\n",
      " |-- stddev: double (nullable = true)\n",
      " |-- PrecioMaximo: double (nullable = true)\n",
      " |-- PrecioMinimo: double (nullable = true)\n",
      "\n"
     ]
    }
   ],
   "source": [
    "venta.printSchema()"
   ]
  },
  {
   "cell_type": "code",
   "execution_count": 20,
   "metadata": {},
   "outputs": [
    {
     "ename": "NameError",
     "evalue": "name 'col' is not defined",
     "output_type": "error",
     "traceback": [
      "\u001b[0;31m---------------------------------------------------------------------------\u001b[0m",
      "\u001b[0;31mNameError\u001b[0m                                 Traceback (most recent call last)",
      "\u001b[1;32m/home/pc/Documentos/henry/hadoopProyecto/pasos/Paso6/scripts/pyspark-ETL.ipynb Cell 20\u001b[0m line \u001b[0;36m1\n\u001b[0;32m----> <a href='vscode-notebook-cell:/home/pc/Documentos/henry/hadoopProyecto/pasos/Paso6/scripts/pyspark-ETL.ipynb#X25sZmlsZQ%3D%3D?line=0'>1</a>\u001b[0m venta\u001b[39m.\u001b[39mwithColumn(\u001b[39m\"\u001b[39m\u001b[39mPrecioMaximo\u001b[39m\u001b[39m\"\u001b[39m,col(\u001b[39m\"\u001b[39m\u001b[39mPrecioMaximo\u001b[39m\u001b[39m\"\u001b[39m)\u001b[39m.\u001b[39mcast(\u001b[39m\"\u001b[39m\u001b[39mfloat\u001b[39m\u001b[39m\"\u001b[39m))\n",
      "\u001b[0;31mNameError\u001b[0m: name 'col' is not defined"
     ]
    }
   ],
   "source": [
    "venta.withColumn(\"PrecioMaximo\",col(\"PrecioMaximo\").cast(\"float\"))"
   ]
  },
  {
   "cell_type": "code",
   "execution_count": 126,
   "metadata": {},
   "outputs": [
    {
     "data": {
      "text/plain": [
       "DataFrame[idventa: int, fecha: date, fecha_entrega: date, idcanal: int, idcliente: int, idsucursal: int, idempleado: int, idproducto: int, precio: float, cantidad: int, promedio: double, stddev: double, PrecioMaximo: double, PrecioMinimo: float]"
      ]
     },
     "execution_count": 126,
     "metadata": {},
     "output_type": "execute_result"
    }
   ],
   "source": [
    "venta.withColumn(\"PrecioMinimo\",col(\"PrecioMinimo\").cast(\"float\"))"
   ]
  },
  {
   "cell_type": "code",
   "execution_count": 127,
   "metadata": {},
   "outputs": [],
   "source": [
    "def detecta_outlier(valor, maximo, minimo):\n",
    "    return (valor < minimo) or (valor > maximo)"
   ]
  },
  {
   "cell_type": "code",
   "execution_count": 128,
   "metadata": {},
   "outputs": [],
   "source": [
    "udf_detecta_outlier = udf(lambda valor, MaxLimit, MinLimit: detecta_outlier(valor, MaxLimit, MinLimit), BooleanType())"
   ]
  },
  {
   "cell_type": "code",
   "execution_count": 129,
   "metadata": {},
   "outputs": [
    {
     "name": "stderr",
     "output_type": "stream",
     "text": [
      "                                                                                \r"
     ]
    },
    {
     "data": {
      "text/plain": [
       "46645"
      ]
     },
     "execution_count": 129,
     "metadata": {},
     "output_type": "execute_result"
    }
   ],
   "source": [
    "venta.count()"
   ]
  },
  {
   "cell_type": "code",
   "execution_count": 130,
   "metadata": {},
   "outputs": [],
   "source": [
    "venta = venta.na.drop(subset=['precio','cantidad'])"
   ]
  },
  {
   "cell_type": "code",
   "execution_count": 131,
   "metadata": {},
   "outputs": [
    {
     "name": "stderr",
     "output_type": "stream",
     "text": [
      "                                                                                \r"
     ]
    },
    {
     "data": {
      "text/plain": [
       "44845"
      ]
     },
     "execution_count": 131,
     "metadata": {},
     "output_type": "execute_result"
    }
   ],
   "source": [
    "venta.count()"
   ]
  },
  {
   "cell_type": "code",
   "execution_count": 132,
   "metadata": {},
   "outputs": [],
   "source": [
    "venta = venta.withColumn(\"esOutlier\", udf_detecta_outlier(venta.precio, venta.PrecioMaximo, venta.PrecioMinimo)).filter(\"NOT esOutlier\")"
   ]
  },
  {
   "cell_type": "code",
   "execution_count": 133,
   "metadata": {},
   "outputs": [
    {
     "name": "stderr",
     "output_type": "stream",
     "text": [
      "                                                                                \r"
     ]
    },
    {
     "name": "stdout",
     "output_type": "stream",
     "text": [
      "+-------+----------+-------------+-------+---------+----------+----------+----------+------+--------+------------------+------------------+------------------+-------------------+---------+\n",
      "|idventa|     fecha|fecha_entrega|idcanal|idcliente|idsucursal|idempleado|idproducto|precio|cantidad|          promedio|            stddev|      PrecioMaximo|       PrecioMinimo|esOutlier|\n",
      "+-------+----------+-------------+-------+---------+----------+----------+----------+------+--------+------------------+------------------+------------------+-------------------+---------+\n",
      "|      1|2018-03-09|   2018-03-17|      3|      969|        13|      1674|     42817|813.12|       2|2294.6944737346626|10853.233513624373|34854.395014607784|-30265.006067138456|    false|\n",
      "|      2|2018-12-28|   2018-12-29|      2|      884|        13|      1674|     42795|543.18|       3| 2491.543036419412|10085.326471187416| 32747.52244998166| -27764.43637714284|    false|\n",
      "|      3|2016-03-28|   2016-03-31|      2|     1722|        13|      1674|     42837|430.32|       1|1117.4438781738281| 5381.093790556302|17260.725249842733|-15025.837493495079|    false|\n",
      "|      4|2017-10-23|   2017-10-24|      3|     2876|        13|      1674|     42834|818.84|       2|1772.5477912454044| 8766.698479843624|28072.643230776277| -24527.54764828547|    false|\n",
      "|      5|2017-11-22|   2017-11-25|      2|      678|        13|      1674|     42825|554.18|       3| 554.1799926757812|               0.0| 554.1799926757812|  554.1799926757812|    false|\n",
      "|      6|2018-01-24|   2018-01-25|      2|     3263|        13|      1674|     42852| 152.0|       1|481.51824817518246|2210.3552086851587| 7112.583874230659| -6149.547377880293|    false|\n",
      "|      7|2015-03-25|   2015-03-26|      3|     2983|        13|      1674|     42939|2915.0|       1| 8464.711538461539| 39760.51016759243|127746.24204123882|-110816.81896431575|    false|\n",
      "|      8|2017-07-10|   2017-07-18|      2|      201|        13|      1674|     42940|2162.0|       2| 4694.994082840237|23214.862967016314| 74339.58298388917|-64949.594818208694|    false|\n",
      "|      9|2018-04-03|   2018-04-06|      2|     1006|        13|      1674|     42905| 456.0|       3| 2068.285714285714| 8402.727764360237|27276.469007366428|   -23139.897578795|    false|\n",
      "|     10|2019-03-16|   2019-03-17|      1|     1003|        13|      1674|     42894| 515.0|       2|            922.88| 4560.237033313071|14603.591099939213|-12757.831099939214|    false|\n",
      "+-------+----------+-------------+-------+---------+----------+----------+----------+------+--------+------------------+------------------+------------------+-------------------+---------+\n",
      "only showing top 10 rows\n",
      "\n"
     ]
    }
   ],
   "source": [
    "venta.show(n=10)"
   ]
  },
  {
   "cell_type": "code",
   "execution_count": 134,
   "metadata": {},
   "outputs": [],
   "source": [
    "venta = venta.select([\"idventa\",\"fecha\",\"fecha_entrega\",\"idcanal\",\"idcliente\",\"idsucursal\",\"idempleado\",\"idproducto\",\"precio\",\"cantidad\"])"
   ]
  },
  {
   "cell_type": "code",
   "execution_count": 135,
   "metadata": {},
   "outputs": [
    {
     "name": "stderr",
     "output_type": "stream",
     "text": [
      "                                                                                \r"
     ]
    }
   ],
   "source": [
    "venta.write.option(\"compression.codec\", \"snappy\").option(\"mergeSchema\", \"true\").parquet(\"data2/venta_sin_outliers\", mode=\"overwrite\")"
   ]
  }
 ],
 "metadata": {
  "kernelspec": {
   "display_name": "Python 3 (ipykernel)",
   "language": "python",
   "name": "python3"
  },
  "language_info": {
   "codemirror_mode": {
    "name": "ipython",
    "version": 3
   },
   "file_extension": ".py",
   "mimetype": "text/x-python",
   "name": "python",
   "nbconvert_exporter": "python",
   "pygments_lexer": "ipython3",
   "version": "3.10.12"
  }
 },
 "nbformat": 4,
 "nbformat_minor": 4
}
